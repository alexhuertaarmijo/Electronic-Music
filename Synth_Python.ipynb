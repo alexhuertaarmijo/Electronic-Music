{
 "cells": [
  {
   "cell_type": "code",
   "execution_count": 42,
   "metadata": {},
   "outputs": [],
   "source": [
    "from time import sleep\n",
    "import random\n",
    "from PIL import Image"
   ]
  },
  {
   "cell_type": "code",
   "execution_count": 1,
   "metadata": {},
   "outputs": [],
   "source": [
    "from synthesizer import Player, Synthesizer, Waveform\n",
    "\n",
    "\n",
    "player = Player()\n",
    "player.open_stream()\n",
    "synthesizer = Synthesizer(osc1_waveform=Waveform.sine, osc1_volume=1.0, use_osc2=False)"
   ]
  },
  {
   "cell_type": "code",
   "execution_count": 32,
   "metadata": {},
   "outputs": [],
   "source": [
    "# Play A4\n",
    "player.play_wave(synthesizer.generate_constant_wave(440.0, 1.0))"
   ]
  },
  {
   "attachments": {},
   "cell_type": "markdown",
   "metadata": {},
   "source": [
    "En los paréntesis encontramos la frecuencia (440. que en la escala de tonos \"Stuttgart Pitch\" es A4 o La) y el tiempo medido en segundos (1.0)\n",
    "\n",
    "A = La\n",
    "B = Si\n",
    "C = Do\n",
    "D = Re\n",
    "E = Mi\n",
    "F = Fa\n",
    "G = Sol\n",
    "A = La\n",
    "\n",
    "\n"
   ]
  },
  {
   "cell_type": "code",
   "execution_count": 49,
   "metadata": {},
   "outputs": [
    {
     "data": {
      "image/png": "[encoded data removed]",
      "text/plain": [
       "<PIL.GifImagePlugin.GifImageFile image mode=P size=475x673 at 0x7FF8A83FF550>"
      ]
     },
     "execution_count": 49,
     "metadata": {},
     "output_type": "execute_result"
    }
   ],
   "source": [
    "n = Image.open('/Users/Alex/Documents/GitHub/Experimentos de Sintesis/midinotes.gif')\n",
    "n"
   ]
  },
  {
   "cell_type": "code",
   "execution_count": 3,
   "metadata": {},
   "outputs": [],
   "source": [
    "# Play C major\n",
    "chord = [\"C3\", \"A4\", \"G2\"]\n",
    "player.play_wave(synthesizer.generate_chord(chord, 3.0))"
   ]
  },
  {
   "cell_type": "code",
   "execution_count": 68,
   "metadata": {},
   "outputs": [],
   "source": [
    "player.play_wave(synthesizer.generate_constant_wave(31.0, 5.0))"
   ]
  },
  {
   "cell_type": "code",
   "execution_count": 33,
   "metadata": {},
   "outputs": [],
   "source": [
    "# You can also specify frequencies to play just intonation\n",
    "chord = [440.0, 550.0, 660.0,330.0]\n",
    "player.play_wave(synthesizer.generate_chord(chord, 2.0))"
   ]
  },
  {
   "cell_type": "code",
   "execution_count": 41,
   "metadata": {},
   "outputs": [],
   "source": [
    "chord = [110.0, 220.0, 330.0,440.0]\n",
    "player.play_wave(synthesizer.generate_chord(chord, 9.0))"
   ]
  },
  {
   "cell_type": "code",
   "execution_count": 29,
   "metadata": {},
   "outputs": [],
   "source": [
    "from synthesizer import Player, Synthesizer, Waveform\n",
    "\n",
    "\n",
    "BASE = 261.626  # C4\n",
    "\n",
    "\n",
    "def main():\n",
    "    player = Player()\n",
    "    player.open_stream()\n",
    "\n",
    "    print(\"play major chord\")\n",
    "    synthesizer = Synthesizer(osc1_waveform=Waveform.sine, osc1_volume=1.0, use_osc2=False)\n",
    "    chord = [BASE,  BASE * 2.0 ** (4 / 12.0), BASE * 2.0 ** (7 / 12.0)]\n",
    "    chord = [\"C4\", \"E4\", \"G4\"]\n",
    "    player.play_wave(synthesizer.generate_chord(chord, 3.0))"
   ]
  },
  {
   "cell_type": "code",
   "execution_count": 28,
   "metadata": {},
   "outputs": [
    {
     "name": "stdout",
     "output_type": "stream",
     "text": [
      "play minor chord\n"
     ]
    }
   ],
   "source": [
    "print(\"play minor chord\")\n",
    "chord = [BASE,  BASE * 2.0 ** (3 / 12.0), BASE * 2.0 ** (7 / 12.0)]\n",
    "chord = [\"C4\", \"Eb4\", \"G4\"]\n",
    "player.play_wave(synthesizer.generate_chord(chord, 3.0))"
   ]
  },
  {
   "cell_type": "code",
   "execution_count": 27,
   "metadata": {},
   "outputs": [
    {
     "name": "stdout",
     "output_type": "stream",
     "text": [
      "play 7th chord\n"
     ]
    }
   ],
   "source": [
    "print(\"play 7th chord\")\n",
    "chord = [BASE,  BASE * 2.0 ** (4 / 12.0), BASE * 2.0 ** (7 / 12.0), BASE * 2.0 ** (10 / 12.0)]\n",
    "chord = [\"C4\", \"E4\", \"G4\", \"Bb4\"]\n",
    "player.play_wave(synthesizer.generate_chord(chord, 3.0))"
   ]
  },
  {
   "cell_type": "code",
   "execution_count": 26,
   "metadata": {},
   "outputs": [
    {
     "name": "stdout",
     "output_type": "stream",
     "text": [
      "play add9 chord\n"
     ]
    }
   ],
   "source": [
    "print(\"play add9 chord\")\n",
    "chord = [BASE,  BASE * 2.0 ** (4 / 12.0), BASE * 2.0 ** (7 / 12.0), BASE * 2.0 ** (14 / 12.0)]\n",
    "chord = [\"C4\", \"E4\", \"G4\", \"D5\"]\n",
    "player.play_wave(synthesizer.generate_chord(chord, 3.0))"
   ]
  },
  {
   "cell_type": "code",
   "execution_count": 18,
   "metadata": {},
   "outputs": [
    {
     "name": "stdout",
     "output_type": "stream",
     "text": [
      "play chord sequence\n"
     ]
    }
   ],
   "source": [
    "print(\"play chord sequence\")\n",
    "chord = [BASE * 2.0 ** (2 / 12.0),  BASE * 2.0 ** (5 / 12.0), BASE * 2.0 ** (9 / 12.0), BASE * 2.0 ** (12 / 12.0)]\n",
    "chord = [\"D4\", \"F4\", \"A4\", \"C5\"]\n",
    "player.play_wave(synthesizer.generate_chord(chord, 1.0))\n",
    "chord = [BASE * 2.0 ** (2 / 12.0),  BASE * 2.0 ** (7 / 12.0), BASE * 2.0 ** (11 / 12.0)]\n",
    "chord = [\"D4\", \"G4\", \"B4\"]\n",
    "player.play_wave(synthesizer.generate_chord(chord, 1.0))\n",
    "chord = [BASE,  BASE * 2.0 ** (4 / 12.0), BASE * 2.0 ** (7 / 12.0), BASE * 2.0 ** (12 / 12.0)]\n",
    "chord = [\"E4\", \"G4\", \"C5\"]\n",
    "player.play_wave(synthesizer.generate_chord(chord, 1.0))"
   ]
  },
  {
   "cell_type": "code",
   "execution_count": 19,
   "metadata": {},
   "outputs": [
    {
     "name": "stdout",
     "output_type": "stream",
     "text": [
      "play 7th chord\n"
     ]
    }
   ],
   "source": [
    "print(\"play 7th chord\")\n",
    "chord = [BASE,  BASE * 2.0 ** (4 / 12.0), BASE * 2.0 ** (7 / 12.0), BASE * 2.0 ** (10 / 12.0)]\n",
    "chord = [\"C4\", \"E4\", \"G4\", \"Bb4\"]\n",
    "player.play_wave(synthesizer.generate_chord(chord, 3.0))"
   ]
  },
  {
   "cell_type": "code",
   "execution_count": 21,
   "metadata": {},
   "outputs": [
    {
     "name": "stdout",
     "output_type": "stream",
     "text": [
      "play add9 chord\n"
     ]
    }
   ],
   "source": [
    "print(\"play add9 chord\")\n",
    "chord = [BASE,  BASE * 2.0 ** (4 / 12.0), BASE * 2.0 ** (7 / 12.0), BASE * 2.0 ** (14 / 12.0)]\n",
    "chord = [\"C4\", \"E4\", \"G4\", \"D5\"]\n",
    "player.play_wave(synthesizer.generate_chord(chord, 4.0))"
   ]
  },
  {
   "cell_type": "code",
   "execution_count": 25,
   "metadata": {},
   "outputs": [
    {
     "name": "stdout",
     "output_type": "stream",
     "text": [
      "play chord sequence\n"
     ]
    }
   ],
   "source": [
    "print(\"play chord sequence\")\n",
    "chord = [BASE * 2.0 ** (2 / 12.0),  BASE * 2.0 ** (5 / 12.0), BASE * 2.0 ** (9 / 12.0), BASE * 2.0 ** (12 / 12.0)]\n",
    "chord = [\"D4\", \"F4\", \"A4\", \"C5\"]\n",
    "player.play_wave(synthesizer.generate_chord(chord, 1.0))\n",
    "chord = [BASE * 2.0 ** (2 / 12.0),  BASE * 2.0 ** (7 / 12.0), BASE * 2.0 ** (11 / 12.0)]\n",
    "chord = [\"D4\", \"G4\", \"B4\"]\n",
    "player.play_wave(synthesizer.generate_chord(chord, 1.0))\n",
    "chord = [BASE,  BASE * 2.0 ** (4 / 12.0), BASE * 2.0 ** (7 / 12.0), BASE * 2.0 ** (12 / 12.0)]\n",
    "chord = [\"E4\", \"G4\", \"C5\"]\n",
    "player.play_wave(synthesizer.generate_chord(chord, 1.0))"
   ]
  },
  {
   "cell_type": "code",
   "execution_count": 23,
   "metadata": {},
   "outputs": [],
   "source": [
    "A1_FREQ = 55.0\n",
    "\n",
    "BASE_FREQUENCY = {\n",
    "    \"C\": A1_FREQ * 2 ** (-9 / 12),\n",
    "    \"C#\": A1_FREQ * 2 ** (-8 / 12),\n",
    "    \"Db\": A1_FREQ * 2 ** (-8 / 12),\n",
    "    \"D\": A1_FREQ * 2 ** (-7 / 12),\n",
    "    \"D#\": A1_FREQ * 2 ** (-6 / 12),\n",
    "    \"Eb\": A1_FREQ * 2 ** (-6 / 12),\n",
    "    \"E\": A1_FREQ * 2 ** (-5 / 12),\n",
    "    \"F\": A1_FREQ * 2 ** (-4 / 12),\n",
    "    \"F#\": A1_FREQ * 2 ** (-3 / 12),\n",
    "    \"Gb\": A1_FREQ * 2 ** (-3 / 12),\n",
    "    \"G\": A1_FREQ * 2 ** (-2 / 12),\n",
    "    \"G#\": A1_FREQ * 2 ** (-1 / 12),\n",
    "    \"Ab\": A1_FREQ * 2 ** (-1 / 12),\n",
    "    \"A\": A1_FREQ,\n",
    "    \"A#\": A1_FREQ * 2 ** (1 / 12),\n",
    "    \"Bb\": A1_FREQ * 2 ** (1 / 12),\n",
    "    \"B\": A1_FREQ * 2 ** (2 / 12),\n",
    "}"
   ]
  },
  {
   "cell_type": "code",
   "execution_count": 24,
   "metadata": {},
   "outputs": [],
   "source": [
    "def frequency_from_scale(scale):\n",
    "    \"\"\" Calculate frequency from pitch\n",
    "    :param str scale: e.g. C4, Ab3, D#5\n",
    "    :rtype: float\n",
    "    :return: Frequency of pitch\n",
    "    \"\"\"\n",
    "    base, octave = scale[:-1], scale[-1]\n",
    "    octave = int(octave)\n",
    "    if base not in BASE_FREQUENCY:\n",
    "        return ValueError(\"Unknown note: {}\".format(base))\n",
    "    return BASE_FREQUENCY[base] * 2 ** (octave - 1)"
   ]
  },
  {
   "cell_type": "code",
   "execution_count": null,
   "metadata": {},
   "outputs": [],
   "source": []
  }
 ],
 "metadata": {
  "kernelspec": {
   "display_name": "Python 3",
   "language": "python",
   "name": "python3"
  },
  "language_info": {
   "codemirror_mode": {
    "name": "ipython",
    "version": 3
   },
   "file_extension": ".py",
   "mimetype": "text/x-python",
   "name": "python",
   "nbconvert_exporter": "python",
   "pygments_lexer": "ipython3",
   "version": "3.7.6"
  }
 },
 "nbformat": 4,
 "nbformat_minor": 4
}
